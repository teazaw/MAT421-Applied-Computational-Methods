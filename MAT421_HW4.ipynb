{
  "nbformat": 4,
  "nbformat_minor": 0,
  "metadata": {
    "colab": {
      "provenance": [],
      "authorship_tag": "ABX9TyNlX2rxsE3ls1mdVa+4NL76",
      "include_colab_link": true
    },
    "kernelspec": {
      "name": "python3",
      "display_name": "Python 3"
    },
    "language_info": {
      "name": "python"
    }
  },
  "cells": [
    {
      "cell_type": "markdown",
      "metadata": {
        "id": "view-in-github",
        "colab_type": "text"
      },
      "source": [
        "<a href=\"https://colab.research.google.com/github/teazaw/MAT421-Applied-Computational-Methods/blob/main/MAT421_HW4.ipynb\" target=\"_parent\"><img src=\"https://colab.research.google.com/assets/colab-badge.svg\" alt=\"Open In Colab\"/></a>"
      ]
    },
    {
      "cell_type": "markdown",
      "source": [
        "# **Root Finding Problem Statement**\n",
        "**Root finding** is the process of determining the values of a variable for which a function equals zero, also referred to as roots or zeros. The **root-finding problem statement** finds the solution of an equation of the form f(x)=0. The quadratic formula is an example of root finding.  \n",
        "\n",
        "Common methods for root finding include:\n",
        "1. Bisection method\n",
        "2. Newton-Rahpson method\n",
        "3. False Position method\n",
        "4. Secant method\n",
        "\n",
        "The following coding example uses fsolve from scipy.optimize to determine the roots of the function: x^3-6x^2+11x-6.\n"
      ],
      "metadata": {
        "id": "w4j53lzZU6zh"
      }
    },
    {
      "cell_type": "code",
      "source": [
        "import numpy as np\n",
        "import matplotlib.pyplot as plt\n",
        "from scipy.optimize import fsolve\n",
        "\n",
        "# define function\n",
        "def f(x):\n",
        "    return x**3 - 6*x**2 + 11*x - 6\n",
        "\n",
        "# initial solving\n",
        "initial_guesses = [0.5, 2.5, 3.5]\n",
        "\n",
        "# use s solve to solve for roots\n",
        "roots = fsolve(f, initial_guesses)\n",
        "\n",
        "print(f\"Roots found using fsolve: {roots}\")\n",
        "\n",
        "# plot\n",
        "x_vals = np.linspace(0, 4, 400)\n",
        "y_vals = f(x_vals)\n",
        "\n",
        "plt.plot(x_vals, y_vals, label=\"f(x)\")\n",
        "plt.axhline(0, color='black', linestyle='--')\n",
        "plt.scatter(roots, np.zeros_like(roots), color='red', label=\"Roots (fsolve)\")\n",
        "plt.legend()\n",
        "plt.xlabel(\"x\")\n",
        "plt.ylabel(\"f(x)\")\n",
        "plt.title(\"Root Finding using fsolve\")\n",
        "plt.show()\n",
        "\n"
      ],
      "metadata": {
        "colab": {
          "base_uri": "https://localhost:8080/",
          "height": 490
        },
        "id": "y83bT3xbXC52",
        "outputId": "8eda8179-d45a-43f9-a9f4-fa26af77b95e"
      },
      "execution_count": 2,
      "outputs": [
        {
          "output_type": "stream",
          "name": "stdout",
          "text": [
            "Roots found using fsolve: [1. 1. 3.]\n"
          ]
        },
        {
          "output_type": "display_data",
          "data": {
            "text/plain": [
              "<Figure size 640x480 with 1 Axes>"
            ],
            "image/png": "[encoded data removed]"
          },
          "metadata": {}
        }
      ]
    },
    {
      "cell_type": "markdown",
      "source": [
        "# **Tolerance**\n",
        "**Error** is a deviation from an expected or computed value. **Tolerance** is the level of error that is acceptable for an engineering application; therefore, if a computer program converges to a solution, it has found a solution with an error smaller than the tolerance. In numerical computations, tolerance is often used as stopping criterion for methods like root finding and optimization.\n",
        "\n",
        "There are several types of tolerance, including absolute tolerance (which ensures that the error is below a fixed threshold) and relative tolerance (which ensures that the error is small relative to the value of the solution)."
      ],
      "metadata": {
        "id": "IGE15QOOYlyx"
      }
    },
    {
      "cell_type": "markdown",
      "source": [
        "The following example uses the Newton-Raphson method with tolerance."
      ],
      "metadata": {
        "id": "9DIAjcRub8OF"
      }
    },
    {
      "cell_type": "code",
      "source": [
        "import numpy as np\n",
        "\n",
        "# function\n",
        "def f(x):\n",
        "    return x**3 - 6*x**2 + 11*x - 6\n",
        "\n",
        "def df(x): #derivative\n",
        "    return 3*x**2 - 12*x + 11\n",
        "\n",
        "# newton's method with tolerance\n",
        "def newton_method(f, df, x0, tol=1e-6, max_iter=100):\n",
        "    x = x0\n",
        "    for i in range(max_iter):\n",
        "        fx = f(x)\n",
        "        dfx = df(x)\n",
        "\n",
        "        if abs(fx) < tol:  #\n",
        "            print(f\"Converged to root {x} after {i+1} iterations.\")\n",
        "            return x\n",
        "        x_new = x - fx / dfx\n",
        "\n",
        "        if abs(x_new - x) < tol:  # tolerance check\n",
        "            print(f\"Converged to root {x_new} after {i+1} iterations.\")\n",
        "            return x_new\n",
        "\n",
        "        x = x_new\n",
        "    print(\"Max iterations reached without full convergence.\")\n",
        "    return x\n",
        "\n",
        "\n",
        "initial_guess = 3.5\n",
        "tolerance = 1e-6\n",
        "root = newton_method(f, df, initial_guess, tol=tolerance)\n",
        "\n",
        "print(f\"Root found: {root}\")\n"
      ],
      "metadata": {
        "colab": {
          "base_uri": "https://localhost:8080/"
        },
        "id": "my_wRk3lbmy3",
        "outputId": "a954870f-6e26-4ce6-aac0-96a940ee3610"
      },
      "execution_count": 8,
      "outputs": [
        {
          "output_type": "stream",
          "name": "stdout",
          "text": [
            "Converged to root 3.000000000015066 after 6 iterations.\n",
            "Root found: 3.000000000015066\n"
          ]
        }
      ]
    },
    {
      "cell_type": "markdown",
      "source": [
        "# **Bisection Method**\n",
        "The **Intermediate Value Theorem** says that f(*x*) is a continuous between a and b, and *sign(f(a))* does not equal *sign(f(b))*, then there must be a c, such that a<c<b and f(c)=0. The **bisection method** uses the intermediate value iteratively to find roots within a given interval [a,b].\n",
        "\n",
        "The bisection method has the following steps:\n",
        "1. Choose an interval [a, b] where f(a) and f(b) have opposite signs.\n",
        "2. Compute the midpoint.\n",
        "3. Check if f(c) is wihin tolerance.\n",
        "4. Determine which subinterval contains the root.\n",
        "5. Repeat the process.\n",
        "\n",
        "The following example ues the bisection method to find the root.\n"
      ],
      "metadata": {
        "id": "hAzxxnQLeX7s"
      }
    },
    {
      "cell_type": "code",
      "source": [
        "def bisection_method(f, a, b, tol=1e-6, max_iter=100):\n",
        "\n",
        "    if f(a) * f(b) >= 0:\n",
        "        raise ValueError(\"Function values at a and b must have opposite signs.\")\n",
        "\n",
        "    iteration = 0\n",
        "    while (b - a) / 2 > tol and iteration < max_iter:\n",
        "        c = (a + b) / 2\n",
        "        fc = f(c)\n",
        "\n",
        "        if abs(fc) < tol:\n",
        "            print(f\"Converged to root {c} after {iteration+1} iterations.\")\n",
        "            return c\n",
        "\n",
        "        if f(a) * fc < 0:\n",
        "            b = c\n",
        "        else:\n",
        "            a = c\n",
        "\n",
        "        iteration += 1\n",
        "    root = (a + b) / 2\n",
        "    print(f\"Converged to root {root} after {iteration} iterations.\")\n",
        "    return root\n",
        "\n",
        "\n",
        "def f(x):\n",
        "    return x**3 - 6*x**2 + 11*x - 6\n",
        "\n",
        "\n",
        "a, b = 0.5, 1.5  #interval containing root\n",
        "\n",
        "root = bisection_method(f, a, b)\n",
        "\n",
        "print(f\"Root found: {root}\")\n",
        "\n"
      ],
      "metadata": {
        "colab": {
          "base_uri": "https://localhost:8080/"
        },
        "id": "xTL2E8QRhZ4J",
        "outputId": "8f36e084-4617-4509-dcab-207a3b6cc343"
      },
      "execution_count": 1,
      "outputs": [
        {
          "output_type": "stream",
          "name": "stdout",
          "text": [
            "Converged to root 1.0 after 1 iterations.\n",
            "Root found: 1.0\n"
          ]
        }
      ]
    },
    {
      "cell_type": "markdown",
      "source": [
        "# **The Newton-Raphson Method**\n",
        "The **Newton-Raphson Method** is a numerical technique used to find the roots of a real-valued function. A **Newton step** computes an improved guess, *xi*, using a previous guess, *xi-1*. It is given by the equation:\n",
        "\n",
        "![image.png](data:image/png;base64,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)\n"
      ],
      "metadata": {
        "id": "vBqQOOqPkgZ8"
      }
    },
    {
      "cell_type": "markdown",
      "source": [
        "Visually, this appears like:\n",
        "\n",
        "\n",
        "![image.png](data:image/png;base64,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)"
      ],
      "metadata": {
        "id": "RfnG3Yhsm9bm"
      }
    },
    {
      "cell_type": "markdown",
      "source": [
        "Thus, the Newton-Raphson method of finding roots iterates Newton steps from *x0* until the error is less than the tolerance.\n",
        "\n",
        "The following example uses the Newton-Raphson method to find the root."
      ],
      "metadata": {
        "id": "YeWQBNy0mDkz"
      }
    },
    {
      "cell_type": "code",
      "source": [
        "def newton_raphson(f, df, x0, tol=1e-6, max_iter=100):\n",
        "    \"\"\"Finds a root of f(x) using the Newton-Raphson method.\"\"\"\n",
        "    x = x0\n",
        "    for i in range(max_iter):\n",
        "        fx = f(x)\n",
        "        dfx = df(x)\n",
        "\n",
        "        if abs(fx) < tol:  # Check if function value is close to zero\n",
        "            print(f\"Converged to root {x:.6f} after {i+1} iterations.\")\n",
        "            return x\n",
        "\n",
        "        if dfx == 0:\n",
        "            raise ValueError(\"Zero derivative encountered. Newton's method fails.\")\n",
        "\n",
        "        x_new = x - fx / dfx  # Newton-Raphson formula\n",
        "\n",
        "        if abs(x_new - x) < tol:\n",
        "            print(f\"Converged to root {x_new:.6f} after {i+1} iterations.\")\n",
        "            return x_new\n",
        "\n",
        "        x = x_new  # Update x\n",
        "\n",
        "    print(\"Max iterations reached without full convergence.\")\n",
        "    return x\n",
        "\n",
        "# Define function and derivative\n",
        "def f(x):\n",
        "    return x**3 - 4*x - 9  # Example function\n",
        "\n",
        "def df(x):\n",
        "    return 3*x**2 - 4  # Derivative of f(x)\n",
        "\n",
        "# Initial guess\n",
        "x0 = 2\n",
        "# Find the root\n",
        "root = newton_raphson(f, df, x0)\n",
        "print(f\"Root found: {root:.6f}\")\n"
      ],
      "metadata": {
        "colab": {
          "base_uri": "https://localhost:8080/"
        },
        "id": "sgdA5dXll_D_",
        "outputId": "a5b39d7d-0701-4e96-a03d-65bc4c95bd27"
      },
      "execution_count": 7,
      "outputs": [
        {
          "output_type": "stream",
          "name": "stdout",
          "text": [
            "Converged to root 2.706528 after 6 iterations.\n",
            "Root found: 2.706528\n"
          ]
        }
      ]
    }
  ]
}