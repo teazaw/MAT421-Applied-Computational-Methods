{
  "nbformat": 4,
  "nbformat_minor": 0,
  "metadata": {
    "colab": {
      "provenance": [],
      "authorship_tag": "ABX9TyMYdGvWKCN2yJMWg4jFUQhb",
      "include_colab_link": true
    },
    "kernelspec": {
      "name": "python3",
      "display_name": "Python 3"
    },
    "language_info": {
      "name": "python"
    }
  },
  "cells": [
    {
      "cell_type": "markdown",
      "metadata": {
        "id": "view-in-github",
        "colab_type": "text"
      },
      "source": [
        "<a href=\"https://colab.research.google.com/github/teazaw/MAT421-Applied-Computational-Methods/blob/main/MAT421_HW1.ipynb\" target=\"_parent\"><img src=\"https://colab.research.google.com/assets/colab-badge.svg\" alt=\"Open In Colab\"/></a>"
      ]
    },
    {
      "cell_type": "markdown",
      "source": [
        "# **Base-N and Binary**\n",
        "A **Base-N number system** is a way of representing numbers using N unique symbols (or digits). The digits used range from 0 to N-1, and each digit's position represents a power of the base.\n",
        "\n",
        "Some important Base-N systems are:\n",
        "1. **Base-2 (Binary)**: Digits are 0 and 1\n",
        "2. **Base-10 (Decimal)**: Digits are 0,1,2,...,9\n",
        "3. **Base-16 (Hexadecimal)**: Digits are 0,1,...,9,A,B,C,D,E,F\n",
        "\n",
        "A number in Base-N is expressed as:"
      ],
      "metadata": {
        "id": "FFA3sd3zEu4e"
      }
    },
    {
      "cell_type": "markdown",
      "source": [
        "![image.png](data:image/png;base64,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)"
      ],
      "metadata": {
        "id": "5GmOF-blGUoc"
      }
    },
    {
      "cell_type": "markdown",
      "source": [
        "As mentioned before, the binary number system is a type of Base-N system, and it is used extensively in technology and engineering. Binary is used in digital electronics, computer architecture, data storage and networking.\n",
        "\n",
        "The coding example below converts a decimal-based number to a specified base."
      ],
      "metadata": {
        "id": "67kFrhRxGiyg"
      }
    },
    {
      "cell_type": "code",
      "source": [
        "\n",
        "# converts decimal to base\n",
        "def to_base_n(number, base):\n",
        "    if number == 0:\n",
        "        return '0'\n",
        "    digits = []\n",
        "    while number:\n",
        "        digits.append(int(number % base))\n",
        "        number //= base\n",
        "    return ''.join(str(x) for x in digits[::-1])\n",
        "\n",
        "number=42\n",
        "print(f\"Decimal: {number}\\n\")\n",
        "\n",
        "\n",
        "# binary\n",
        "print(\"Binary Representation:\")\n",
        "binary_representation = bin(number)[2:]\n",
        "print(f\"{number} --> {binary_representation}\\n\")\n",
        "\n",
        "\n",
        "# hexadecimal\n",
        "print(\"Hexadecimal Representation:\")\n",
        "hex_representation = hex(number)[2:]\n",
        "print(f\"{number} -> {hex_representation.upper()}\\n\")\n",
        "\n",
        "# base 5\n",
        "print(\"Base-5 Representation:\")\n",
        "base_5_representation = to_base_n(number, 5)\n",
        "print(f\"{number} -> {base_5_representation}\\n\")\n",
        "\n"
      ],
      "metadata": {
        "colab": {
          "base_uri": "https://localhost:8080/"
        },
        "id": "p4Iy54SlFO9F",
        "outputId": "6477cd50-6f49-4608-97e5-d9269f759d42"
      },
      "execution_count": 3,
      "outputs": [
        {
          "output_type": "stream",
          "name": "stdout",
          "text": [
            "Decimal: 42\n",
            "\n",
            "Binary Representation:\n",
            "42 --> 101010\n",
            "\n",
            "Hexadecimal Representation:\n",
            "42 -> 2A\n",
            "\n",
            "Base-5 Representation:\n",
            "42 -> 132\n",
            "\n"
          ]
        }
      ]
    },
    {
      "cell_type": "markdown",
      "source": [
        "# **Floating-Point Numbers**\n",
        "\n",
        "A **floating-point number** is a way of representing real numbers (fractions and decimals) in a computer that balances range and precision. Instead of utilizing each bit as the coefficient of a power of 2, floats allocate bits to three different parts:\n",
        "1. **Sign Indicator**, which says whether a\n",
        "number is positive or negative\n",
        "2. **Characteristic or Exponent**, which is the power of 2\n",
        "3. **Fraction**, which is the coefficient of the exponent\n",
        "\n",
        "The advantages of floating-point numbers are their large range and flexibility. Disadvantages of floating-point numbers are rounding errors and complexity.\n",
        "\n",
        "The example below performs operations with floating point numbers."
      ],
      "metadata": {
        "id": "Qc7gdLfHIH_n"
      }
    },
    {
      "cell_type": "code",
      "source": [
        "\n",
        "# floating point numbers\n",
        "a = 3.14159            # pi\n",
        "b = 2.71828            # e\n",
        "c = 1.23e4\n",
        "d = 5.67e-3\n",
        "\n",
        "# performing operations\n",
        "sum_ab = a + b\n",
        "product_cd = c * d\n",
        "difference = a - b\n",
        "quotient = c / d\n",
        "\n",
        "\n",
        "print(f\"a = {a}, b = {b}\")\n",
        "print(f\"c = {c}, d = {d}\")\n",
        "print(f\"Sum of a and b: {sum_ab}\")\n",
        "print(f\"Product of c and d: {product_cd}\")\n",
        "print(f\"Difference between a and b: {difference}\")\n",
        "print(f\"Quotient of c and d: {quotient}\\n\")\n",
        "\n",
        "# precision issues\n",
        "x = 0.1 + 0.2\n",
        "print(f\"0.1 + 0.2 = {x} (Expected: 0.3)\")\n",
        "\n"
      ],
      "metadata": {
        "colab": {
          "base_uri": "https://localhost:8080/"
        },
        "id": "CVueCdJGK1mb",
        "outputId": "c5a6b7d3-2f56-40a5-c987-e470196ec5b6"
      },
      "execution_count": 9,
      "outputs": [
        {
          "output_type": "stream",
          "name": "stdout",
          "text": [
            "a = 3.14159, b = 2.71828\n",
            "c = 12300.0, d = 0.00567\n",
            "Sum of a and b: 5.85987\n",
            "Product of c and d: 69.741\n",
            "Difference between a and b: 0.42330999999999985\n",
            "Quotient of c and d: 2169312.1693121693\n",
            "\n",
            "0.1 + 0.2 = 0.30000000000000004 (Expected: 0.3)\n"
          ]
        }
      ]
    },
    {
      "cell_type": "markdown",
      "source": [
        "# **Round-Off Errors**\n",
        "\n",
        "A **round-off error** is the difference between an approximation of a number used in computation and its correct (true) value. Another error is a truncation error. The difference between a round-off error and a truncation error is that is that the truncation error is the error made by truncating an infinite sum and approximating it by a finite sum.\n",
        "\n",
        "\n",
        "The most common form round-off error is the **representation error**. A simple example is when you are representing π. Because π is an infinite number, if you only use 3.14159265 to approximate it, there will be a discrepancy between this approximation and the true infinite number.\n",
        "\n",
        "Round-off errors are important because they can have significant impacts on the accuracy and reliability of computational results. In complex calculations, small round-off errors can accumulate and lead to significant inaccuracies over time.\n",
        "\n",
        "The code below demonstrates round-off errors."
      ],
      "metadata": {
        "id": "UPQa0couLQpP"
      }
    },
    {
      "cell_type": "code",
      "source": [
        "\n",
        "a = 0.1\n",
        "b = 0.2\n",
        "c = a + b\n",
        "\n",
        "print(f\"a + b = {c}\")  # is 0.3, but it will show a small error\n",
        "\n",
        "if c == 0.3:\n",
        "    print(\"The sum is exactly 0.3\")\n",
        "else:\n",
        "    print(\"The sum is not exactly 0.3 due to round-off error\")\n",
        "\n",
        "# error in repeated operations\n",
        "d = 0.1 * 3\n",
        "print(f\"0.1 * 3 = {d}\")  # is 0.3, but it will show a small error\n",
        "\n",
        "\n",
        "e = 1.0 - 0.9\n",
        "print(f\"1.0 - 0.9 = {e}\")  # is 0.1, but may show a small error\n",
        "\n",
        "# use a library to demonstrate the round-off\n",
        "from decimal import Decimal\n",
        "\n",
        "f = Decimal('0.1') + Decimal('0.2')\n",
        "print(f\"Using Decimal library: 0.1 + 0.2 = {f}\")  # no error\n",
        "\n",
        "\n"
      ],
      "metadata": {
        "colab": {
          "base_uri": "https://localhost:8080/"
        },
        "id": "RREUn2QqLrxi",
        "outputId": "8335a0a7-7b7a-423a-d2d9-a827f0ec16f1"
      },
      "execution_count": 6,
      "outputs": [
        {
          "output_type": "stream",
          "name": "stdout",
          "text": [
            "a + b = 0.30000000000000004\n",
            "The sum is not exactly 0.3 due to round-off error\n",
            "0.1 * 3 = 0.30000000000000004\n",
            "1.0 - 0.9 = 0.09999999999999998\n",
            "Using Decimal library: 0.1 + 0.2 = 0.3\n"
          ]
        }
      ]
    }
  ]
}